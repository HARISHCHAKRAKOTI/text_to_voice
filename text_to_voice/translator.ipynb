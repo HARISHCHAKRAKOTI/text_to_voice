{
 "cells": [
  {
   "cell_type": "code",
   "execution_count": 1,
   "id": "96f7beab",
   "metadata": {},
   "outputs": [
    {
     "name": "stdout",
     "output_type": "stream",
     "text": [
      "Collecting gtts\n",
      "  Obtaining dependency information for gtts from https://files.pythonhosted.org/packages/59/a8/e3434904445eacf03b857ac001755d8ffac49b4f3339d63592b4eda009dc/gTTS-2.5.1-py3-none-any.whl.metadata\n",
      "  Downloading gTTS-2.5.1-py3-none-any.whl.metadata (4.1 kB)\n",
      "Requirement already satisfied: requests<3,>=2.27 in c:\\users\\chakr\\anaconda3\\lib\\site-packages (from gtts) (2.31.0)\n",
      "Requirement already satisfied: click<8.2,>=7.1 in c:\\users\\chakr\\anaconda3\\lib\\site-packages (from gtts) (8.0.4)\n",
      "Requirement already satisfied: colorama in c:\\users\\chakr\\anaconda3\\lib\\site-packages (from click<8.2,>=7.1->gtts) (0.4.6)\n",
      "Requirement already satisfied: charset-normalizer<4,>=2 in c:\\users\\chakr\\anaconda3\\lib\\site-packages (from requests<3,>=2.27->gtts) (2.0.4)\n",
      "Requirement already satisfied: idna<4,>=2.5 in c:\\users\\chakr\\anaconda3\\lib\\site-packages (from requests<3,>=2.27->gtts) (3.4)\n",
      "Requirement already satisfied: urllib3<3,>=1.21.1 in c:\\users\\chakr\\anaconda3\\lib\\site-packages (from requests<3,>=2.27->gtts) (1.26.16)\n",
      "Requirement already satisfied: certifi>=2017.4.17 in c:\\users\\chakr\\anaconda3\\lib\\site-packages (from requests<3,>=2.27->gtts) (2023.11.17)\n",
      "Downloading gTTS-2.5.1-py3-none-any.whl (29 kB)\n",
      "Installing collected packages: gtts\n",
      "Successfully installed gtts-2.5.1\n",
      "Note: you may need to restart the kernel to use updated packages.\n"
     ]
    }
   ],
   "source": [
    "pip install gtts\n"
   ]
  },
  {
   "cell_type": "code",
   "execution_count": 4,
   "id": "fec64068",
   "metadata": {},
   "outputs": [
    {
     "name": "stdout",
     "output_type": "stream",
     "text": [
      "Requirement already satisfied: gtts in c:\\users\\chakr\\anaconda3\\lib\\site-packages (2.5.1)\n",
      "Collecting googletrans==4.0.0-rc1\n",
      "  Downloading googletrans-4.0.0rc1.tar.gz (20 kB)\n",
      "  Preparing metadata (setup.py): started\n",
      "  Preparing metadata (setup.py): finished with status 'done'\n",
      "Collecting httpx==0.13.3 (from googletrans==4.0.0-rc1)\n",
      "  Downloading httpx-0.13.3-py3-none-any.whl (55 kB)\n",
      "     ---------------------------------------- 0.0/55.1 kB ? eta -:--:--\n",
      "     ------- -------------------------------- 10.2/55.1 kB ? eta -:--:--\n",
      "     ---------------------------------------- 55.1/55.1 kB 1.4 MB/s eta 0:00:00\n",
      "Requirement already satisfied: certifi in c:\\users\\chakr\\anaconda3\\lib\\site-packages (from httpx==0.13.3->googletrans==4.0.0-rc1) (2023.11.17)\n",
      "Collecting hstspreload (from httpx==0.13.3->googletrans==4.0.0-rc1)\n",
      "  Obtaining dependency information for hstspreload from https://files.pythonhosted.org/packages/b5/9f/83329ebd2808e04f2564051e4c4a880a1e2e67bd6410899f728096d0e22f/hstspreload-2024.2.1-py3-none-any.whl.metadata\n",
      "  Downloading hstspreload-2024.2.1-py3-none-any.whl.metadata (2.1 kB)\n",
      "Requirement already satisfied: sniffio in c:\\users\\chakr\\anaconda3\\lib\\site-packages (from httpx==0.13.3->googletrans==4.0.0-rc1) (1.2.0)\n",
      "Collecting chardet==3.* (from httpx==0.13.3->googletrans==4.0.0-rc1)\n",
      "  Downloading chardet-3.0.4-py2.py3-none-any.whl (133 kB)\n",
      "     ---------------------------------------- 0.0/133.4 kB ? eta -:--:--\n",
      "     -------------------------------------- 133.4/133.4 kB 4.0 MB/s eta 0:00:00\n",
      "Collecting idna==2.* (from httpx==0.13.3->googletrans==4.0.0-rc1)\n",
      "  Downloading idna-2.10-py2.py3-none-any.whl (58 kB)\n",
      "     ---------------------------------------- 0.0/58.8 kB ? eta -:--:--\n",
      "     ---------------------------------------- 58.8/58.8 kB 1.6 MB/s eta 0:00:00\n",
      "Collecting rfc3986<2,>=1.3 (from httpx==0.13.3->googletrans==4.0.0-rc1)\n",
      "  Downloading rfc3986-1.5.0-py2.py3-none-any.whl (31 kB)\n",
      "Collecting httpcore==0.9.* (from httpx==0.13.3->googletrans==4.0.0-rc1)\n",
      "  Downloading httpcore-0.9.1-py3-none-any.whl (42 kB)\n",
      "     ---------------------------------------- 0.0/42.6 kB ? eta -:--:--\n",
      "     ---------------------------------------- 42.6/42.6 kB 2.2 MB/s eta 0:00:00\n",
      "Collecting h11<0.10,>=0.8 (from httpcore==0.9.*->httpx==0.13.3->googletrans==4.0.0-rc1)\n",
      "  Downloading h11-0.9.0-py2.py3-none-any.whl (53 kB)\n",
      "     ---------------------------------------- 0.0/53.6 kB ? eta -:--:--\n",
      "     ---------------------------------------- 53.6/53.6 kB ? eta 0:00:00\n",
      "Collecting h2==3.* (from httpcore==0.9.*->httpx==0.13.3->googletrans==4.0.0-rc1)\n",
      "  Downloading h2-3.2.0-py2.py3-none-any.whl (65 kB)\n",
      "     ---------------------------------------- 0.0/65.0 kB ? eta -:--:--\n",
      "     ---------------------------------------- 65.0/65.0 kB 3.7 MB/s eta 0:00:00\n",
      "Collecting hyperframe<6,>=5.2.0 (from h2==3.*->httpcore==0.9.*->httpx==0.13.3->googletrans==4.0.0-rc1)\n",
      "  Downloading hyperframe-5.2.0-py2.py3-none-any.whl (12 kB)\n",
      "Collecting hpack<4,>=3.0 (from h2==3.*->httpcore==0.9.*->httpx==0.13.3->googletrans==4.0.0-rc1)\n",
      "  Downloading hpack-3.0.0-py2.py3-none-any.whl (38 kB)\n",
      "Requirement already satisfied: requests<3,>=2.27 in c:\\users\\chakr\\anaconda3\\lib\\site-packages (from gtts) (2.31.0)\n",
      "Requirement already satisfied: click<8.2,>=7.1 in c:\\users\\chakr\\anaconda3\\lib\\site-packages (from gtts) (8.0.4)\n",
      "Requirement already satisfied: colorama in c:\\users\\chakr\\anaconda3\\lib\\site-packages (from click<8.2,>=7.1->gtts) (0.4.6)\n",
      "Requirement already satisfied: charset-normalizer<4,>=2 in c:\\users\\chakr\\anaconda3\\lib\\site-packages (from requests<3,>=2.27->gtts) (2.0.4)\n",
      "Requirement already satisfied: urllib3<3,>=1.21.1 in c:\\users\\chakr\\anaconda3\\lib\\site-packages (from requests<3,>=2.27->gtts) (1.26.16)\n",
      "Downloading hstspreload-2024.2.1-py3-none-any.whl (1.1 MB)\n",
      "   ---------------------------------------- 0.0/1.1 MB ? eta -:--:--\n",
      "   --------------- ------------------------ 0.4/1.1 MB 8.9 MB/s eta 0:00:01\n",
      "   -------------------------- ------------- 0.7/1.1 MB 7.7 MB/s eta 0:00:01\n",
      "   ------------------------------------- -- 1.0/1.1 MB 7.3 MB/s eta 0:00:01\n",
      "   ---------------------------------------- 1.1/1.1 MB 6.4 MB/s eta 0:00:00\n",
      "Building wheels for collected packages: googletrans\n",
      "  Building wheel for googletrans (setup.py): started\n",
      "  Building wheel for googletrans (setup.py): finished with status 'done'\n",
      "  Created wheel for googletrans: filename=googletrans-4.0.0rc1-py3-none-any.whl size=17461 sha256=d72b7479eebbb5193f05bac1e339d1713b9461d1bf8aa31fd09093be3df3019b\n",
      "  Stored in directory: c:\\users\\chakr\\appdata\\local\\pip\\cache\\wheels\\39\\17\\6f\\66a045ea3d168826074691b4b787b8f324d3f646d755443fda\n",
      "Successfully built googletrans\n",
      "Installing collected packages: rfc3986, hyperframe, hpack, h11, chardet, idna, hstspreload, h2, httpcore, httpx, googletrans\n",
      "  Attempting uninstall: chardet\n",
      "    Found existing installation: chardet 4.0.0\n",
      "    Uninstalling chardet-4.0.0:\n",
      "      Successfully uninstalled chardet-4.0.0\n",
      "  Attempting uninstall: idna\n",
      "    Found existing installation: idna 3.4\n",
      "    Uninstalling idna-3.4:\n",
      "      Successfully uninstalled idna-3.4\n",
      "Successfully installed chardet-3.0.4 googletrans-4.0.0rc1 h11-0.9.0 h2-3.2.0 hpack-3.0.0 hstspreload-2024.2.1 httpcore-0.9.1 httpx-0.13.3 hyperframe-5.2.0 idna-2.10 rfc3986-1.5.0\n",
      "Note: you may need to restart the kernel to use updated packages.\n"
     ]
    }
   ],
   "source": [
    "pip install gtts googletrans==4.0.0-rc1\n"
   ]
  },
  {
   "cell_type": "code",
   "execution_count": 3,
   "id": "6324dbb1",
   "metadata": {},
   "outputs": [
    {
     "name": "stdout",
     "output_type": "stream",
     "text": [
      "Enter the textHello, I am Harish\n"
     ]
    }
   ],
   "source": [
    "from gtts import gTTS\n",
    "import os\n",
    "\n",
    "def text_to_speech(text, lang='en'):\n",
    "    tts = gTTS(text=text, lang=lang, slow=False)\n",
    "    tts.save(\"output.mp3\")\n",
    "    os.system(\"start output.mp3\")\n",
    "\n",
    "text =input(\"Enter the text\")\n",
    "text_to_speech(text)\n"
   ]
  },
  {
   "cell_type": "code",
   "execution_count": 3,
   "id": "883eea4b",
   "metadata": {},
   "outputs": [
    {
     "name": "stdout",
     "output_type": "stream",
     "text": [
      "Please select the target language for translation and text-to-speech conversion:\n",
      "1. English\n",
      "2. Spanish\n",
      "3. French\n",
      "4. German\n",
      "5. Chinese\n",
      "6. Japanese\n",
      "7. Korean\n",
      "8. Italian\n",
      "9. Russian\n",
      "10. Portuguese\n",
      "11. Telugu\n",
      "Enter the number corresponding to your choice: 11\n",
      "Enter the text: hello idoit\n",
      "Translating to Telugu and converting to speech...\n"
     ]
    }
   ],
   "source": [
    "from gtts import gTTS\n",
    "from googletrans import Translator, LANGUAGES\n",
    "import os\n",
    "\n",
    "def translate_text(text, dest_language):\n",
    "    translator = Translator()\n",
    "    translation = translator.translate(text, dest=dest_language)\n",
    "    return translation.text\n",
    "\n",
    "def text_to_speech(text, lang='en'):\n",
    "    tts = gTTS(text=text, lang=lang, slow=False)\n",
    "    tts.save(\"output.mp3\")\n",
    "    # Adjust the command based on the operating system\n",
    "    if os.name == 'nt':  # Windows\n",
    "        os.system(\"start output.mp3\")\n",
    "    elif os.name == 'posix':  # macOS or Linux\n",
    "        os.system(\"open output.mp3\" if os.uname().sysname == 'Darwin' else \"xdg-open output.mp3\")\n",
    "\n",
    "def main():\n",
    "    # Supported languages and their codes\n",
    "    languages = {\n",
    "        'English': 'en',\n",
    "        'Spanish': 'es',\n",
    "        'French': 'fr',\n",
    "        'German': 'de',\n",
    "        'Chinese': 'zh-CN',\n",
    "        'Japanese': 'ja',\n",
    "        'Korean': 'ko',\n",
    "        'Italian': 'it',\n",
    "        'Russian': 'ru',\n",
    "        'Portuguese': 'pt',\n",
    "        'Telugu': 'te'\n",
    "    }\n",
    "\n",
    "    # Display available languages for user to choose\n",
    "    print(\"Please select the target language for translation and text-to-speech conversion:\")\n",
    "    for i, (language_name, _) in enumerate(languages.items(), start=1):\n",
    "        print(f\"{i}. {language_name}\")\n",
    "\n",
    "    try:\n",
    "        choice = int(input(\"Enter the number corresponding to your choice: \"))\n",
    "        if choice < 1 or choice > len(languages):\n",
    "            raise ValueError(\"Invalid choice\")\n",
    "        \n",
    "        # Extract the selected language code\n",
    "        selected_language_name = list(languages.keys())[choice - 1]\n",
    "        selected_language_code = languages[selected_language_name]\n",
    "\n",
    "        # Get user input for text\n",
    "        original_text = input(\"Enter the text: \")\n",
    "        \n",
    "        # Translate and convert text to speech in the selected language\n",
    "        print(f\"Translating to {selected_language_name} and converting to speech...\")\n",
    "        translated_text = translate_text(original_text, dest_language=selected_language_code)\n",
    "        text_to_speech(translated_text, lang=selected_language_code.split('-')[0])\n",
    "    \n",
    "    except ValueError as e:\n",
    "        print(\"Please enter a valid selection.\")\n",
    "        return  # Exit the function to stop execution\n",
    "\n",
    "if __name__ == \"__main__\":\n",
    "    main()\n"
   ]
  },
  {
   "cell_type": "code",
   "execution_count": null,
   "id": "4ec91667",
   "metadata": {},
   "outputs": [],
   "source": []
  }
 ],
 "metadata": {
  "kernelspec": {
   "display_name": "Python 3 (ipykernel)",
   "language": "python",
   "name": "python3"
  },
  "language_info": {
   "codemirror_mode": {
    "name": "ipython",
    "version": 3
   },
   "file_extension": ".py",
   "mimetype": "text/x-python",
   "name": "python",
   "nbconvert_exporter": "python",
   "pygments_lexer": "ipython3",
   "version": "3.11.5"
  }
 },
 "nbformat": 4,
 "nbformat_minor": 5
}
